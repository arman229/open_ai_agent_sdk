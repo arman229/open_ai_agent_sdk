{
 "cells": [
  {
   "cell_type": "markdown",
   "id": "dd468c1c",
   "metadata": {},
   "source": [
    "\n",
    "this is line break\n",
    "this is second line\n",
    "create heading \n",
    "# this is h1 heading\n",
    "end\n"
   ]
  },
  {
   "cell_type": "markdown",
   "id": "bbdedf2a",
   "metadata": {},
   "source": [
    "First line with a backslash after.\\\n",
    "And the next line."
   ]
  },
  {
   "cell_type": "markdown",
   "id": "f9b0c592",
   "metadata": {},
   "source": [
    "First line with two spaces after.  \n",
    "And the next line."
   ]
  },
  {
   "cell_type": "markdown",
   "id": "0ad7c458",
   "metadata": {},
   "source": []
  },
  {
   "cell_type": "markdown",
   "id": "1c4e33a1",
   "metadata": {
    "vscode": {
     "languageId": "plaintext"
    }
   },
   "source": [
    "bold text **bold** work.  \n",
    "bold text __bold__ work.  \n",
    "bold text**bold**work.  \n",
    "bold text__bold__work."
   ]
  },
  {
   "cell_type": "markdown",
   "id": "feeab2d2",
   "metadata": {},
   "source": [
    "> blackquote  \n",
    "lll"
   ]
  },
  {
   "cell_type": "markdown",
   "id": "b8cc8e7a",
   "metadata": {},
   "source": [
    "> Dorothy followed her through many of the beautiful rooms in her castle.\n",
    ">\n",
    ">> The"
   ]
  },
  {
   "cell_type": "markdown",
   "id": "c4d7a9bf",
   "metadata": {},
   "source": [
    ">"
   ]
  },
  {
   "cell_type": "markdown",
   "id": "dd31c65f",
   "metadata": {},
   "source": [
    "#### The quarterly results look great!\n",
    ">\n",
    "> - Revenue was off the chart.\n",
    "> - Profits were higher than ever.\n",
    ">\n",
    ">  *Everything* is going according to **plan**."
   ]
  },
  {
   "cell_type": "markdown",
   "id": "dc5079b1",
   "metadata": {},
   "source": []
  },
  {
   "cell_type": "markdown",
   "id": "61d00fc4",
   "metadata": {
    "vscode": {
     "languageId": "plaintext"
    }
   },
   "source": [
    "# order list\n",
    "1. one\n",
    "4. four\n",
    "2. two"
   ]
  },
  {
   "cell_type": "markdown",
   "id": "dc058d85",
   "metadata": {},
   "source": [
    "# Nested Order \n",
    "1. one\n",
    "  1. nested one"
   ]
  },
  {
   "cell_type": "markdown",
   "id": "0aecddc4",
   "metadata": {},
   "source": []
  },
  {
   "cell_type": "markdown",
   "id": "e514cfe7",
   "metadata": {
    "vscode": {
     "languageId": "plaintext"
    }
   },
   "source": [
    "1) First item\n",
    "2) Second item\n",
    "   1) second nested"
   ]
  },
  {
   "cell_type": "markdown",
   "id": "4c76cc7b",
   "metadata": {
    "vscode": {
     "languageId": "plaintext"
    }
   },
   "source": [
    "# unorder list\n",
    "+ one\n",
    "+ two\n",
    "   + two nested"
   ]
  },
  {
   "cell_type": "markdown",
   "id": "6c473c1e",
   "metadata": {},
   "source": [
    "+ 1\\.\n",
    "+ 2\\."
   ]
  },
  {
   "cell_type": "markdown",
   "id": "7332f878",
   "metadata": {},
   "source": []
  },
  {
   "cell_type": "markdown",
   "id": "49569506",
   "metadata": {
    "vscode": {
     "languageId": "plaintext"
    }
   },
   "source": [
    "+ First item\n",
    "* Second item\n",
    "- Third item\n",
    "+ Fourth item"
   ]
  },
  {
   "cell_type": "markdown",
   "id": "03ae3d06",
   "metadata": {},
   "source": [
    "Try to put a blank line before...\n",
    "\n",
    "heading\n",
    "---\n",
    "\n",
    "---\n",
    "***\n",
    "___\n",
    "\n",
    "...and after a horizontal rule."
   ]
  },
  {
   "cell_type": "markdown",
   "id": "a82d4d61",
   "metadata": {},
   "source": []
  },
  {
   "cell_type": "markdown",
   "id": "91b54905",
   "metadata": {
    "vscode": {
     "languageId": "plaintext"
    }
   },
   "source": [
    "<span>\n",
    "This is **bold** and *italic* text inside a div.\n",
    "</span>"
   ]
  },
  {
   "cell_type": "markdown",
   "id": "3a781a5e",
   "metadata": {
    "vscode": {
     "languageId": "plaintext"
    }
   },
   "source": [
    "\\*This text is not italicized because the asterisk is escaped.\\*\n"
   ]
  },
  {
   "cell_type": "markdown",
   "id": "ed29b0f8",
   "metadata": {},
   "source": [
    "In a hole in the ground there lived a hobbit. It was a [hobbit-hole][1], and that means comfort.\n",
    "\n",
    "[1]: https://en.wikipedia.org/wiki/Hobbit#Lifestyle \"Hobbit lifestyles\"\n"
   ]
  },
  {
   "cell_type": "markdown",
   "id": "4348f95b",
   "metadata": {},
   "source": [
    "[1]: https://en.wikipedia.org/wiki/Hobbit#Lifestyle\n",
    "[1]: https://en.wikipedia.org/wiki/Hobbit#Lifestyle \"Hobbit lifestyles\"\n",
    "[1]: https://en.wikipedia.org/wiki/Hobbit#Lifestyle 'Hobbit lifestyles'\n",
    "[1]: https://en.wikipedia.org/wiki/Hobbit#Lifestyle (Hobbit lifestyles)\n",
    "[1]: <https://en.wikipedia.org/wiki/Hobbit#Lifestyle> \"Hobbit lifestyles\"\n",
    "[1]: <https://en.wikipedia.org/wiki/Hobbit#Lifestyle> 'Hobbit lifestyles'\n",
    "[1]: <https://en.wikipedia.org/wiki/Hobbit#Lifestyle> (Hobbit lifestyles)"
   ]
  },
  {
   "cell_type": "markdown",
   "id": "96f39197",
   "metadata": {
    "vscode": {
     "languageId": "plaintext"
    }
   },
   "source": [
    "Love___is___bold"
   ]
  },
  {
   "cell_type": "markdown",
   "id": "6f24b126",
   "metadata": {},
   "source": [
    "[1]: https://en.wikipedia.org/wiki/Hobbit#Lifestyle\n",
    "[1]: https://en.wikipedia.org/wiki/Hobbit#Lifestyle \"Hobbit lifestyles\"\n",
    "[1]: https://en.wikipedia.org/wiki/Hobbit#Lifestyle 'Hobbit lifestyles'\n",
    "[1]: https://en.wikipedia.org/wiki/Hobbit#Lifestyle (Hobbit lifestyles)\n",
    "[1]: <https://en.wikipedia.org/wiki/Hobbit#Lifestyle> \"Hobbit lifestyles\"\n",
    "[1]: <https://en.wikipedia.org/wiki/Hobbit#Lifestyle> 'Hobbit lifestyles'\n",
    "[1]: <https://en.wikipedia.org/wiki/Hobbit#Lifestyle> (Hobbit lifestyles)"
   ]
  },
  {
   "cell_type": "markdown",
   "id": "763839c9",
   "metadata": {
    "vscode": {
     "languageId": "plaintext"
    }
   },
   "source": [
    "[![Image alt text](https://img.youtube.com/vi/YOUTUBE-ID/0.jpg)](https://www.youtube.com/watch?v=YOUTUBE-ID)"
   ]
  },
  {
   "cell_type": "markdown",
   "id": "9c5a7da0",
   "metadata": {},
   "source": []
  },
  {
   "cell_type": "markdown",
   "id": "596c99f9",
   "metadata": {
    "vscode": {
     "languageId": "plaintext"
    }
   },
   "source": [
    "| No_of_student | FirstName_of_child | LastName_of_child |\n",
    "| 1             | arman              | ashraf            |\n"
   ]
  },
  {
   "cell_type": "markdown",
   "id": "dbea5b5d",
   "metadata": {},
   "source": [
    "| No_of_student | FirstName_of_child | LastName_of_child |\n",
    "| :------------ |:------------------:| -----------------:|\n",
    "| 1             | arman              | ashraf            |\n"
   ]
  },
  {
   "cell_type": "markdown",
   "id": "1fa37c1e",
   "metadata": {
    "vscode": {
     "languageId": "plaintext"
    }
   },
   "source": [
    "```\n",
    "{\n",
    "  \"firstName\": \"John\",\n",
    "  \"lastName\": \"Smith\",\n",
    "  \"age\": 25\n",
    "}"
   ]
  },
  {
   "cell_type": "markdown",
   "id": "15bd3e1c",
   "metadata": {},
   "source": [
    " \n",
    "{\n",
    "  \"firstName\": \"John\",\n",
    "  \"lastName\": \"Smith\",\n",
    "  \"age\": 25\n",
    "}"
   ]
  },
  {
   "cell_type": "markdown",
   "id": "f5e0ce68",
   "metadata": {},
   "source": [
    "Here's a simple footnote,[^1] and here's a longer one.[^bignote]\n",
    "\n",
    "[^1]: This is the first footnote.\n",
    "\n",
    "[^bignote]: Here's one with multiple paragraphs and code.\n",
    "\n",
    "    Indent paragraphs to include them in the footnote.\n",
    "\n",
    "    `{ my code }`\n",
    "\n",
    "    Add as many paragraphs as you like."
   ]
  },
  {
   "cell_type": "markdown",
   "id": "78f735ee",
   "metadata": {},
   "source": [
    "### My Great Heading {#custom-id}"
   ]
  },
  {
   "cell_type": "markdown",
   "id": "b79d5415",
   "metadata": {
    "vscode": {
     "languageId": "plaintext"
    }
   },
   "source": [
    "Linking to Heading IDs\n",
    "[Heading IDs](#heading-ids)\t"
   ]
  },
  {
   "cell_type": "markdown",
   "id": "bac37be7",
   "metadata": {},
   "source": [
    "H~2~O"
   ]
  },
  {
   "cell_type": "markdown",
   "id": "b174ed50",
   "metadata": {},
   "source": []
  }
 ],
 "metadata": {
  "language_info": {
   "name": "python"
  }
 },
 "nbformat": 4,
 "nbformat_minor": 5
}
