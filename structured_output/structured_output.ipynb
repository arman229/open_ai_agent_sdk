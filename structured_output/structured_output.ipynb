{
 "cells": [
  {
   "cell_type": "code",
   "execution_count": 9,
   "id": "49f77727",
   "metadata": {},
   "outputs": [],
   "source": [
    "import nest_asyncio\n",
    "nest_asyncio.apply()"
   ]
  },
  {
   "cell_type": "code",
   "execution_count": 10,
   "id": "5b20bfb2",
   "metadata": {},
   "outputs": [
    {
     "name": "stdout",
     "output_type": "stream",
     "text": [
      "llm resp:name='Agenticai' date='19 oct 2025' participants=['billgates', 'elon musk', 'andrew', 'sir zia khan']\n"
     ]
    }
   ],
   "source": [
    "\n",
    "import logfire\n",
    "import os\n",
    "import asyncio \n",
    "from IPython.display import display\n",
    "from agents import Agent, Runner\n",
    "from agents.extensions.visualization import draw_graph\n",
    "from pydantic import BaseModel\n",
    "from agents import Agent\n",
    "from dataclasses import dataclass\n",
    "import asyncio\n",
    "from agents.extensions.visualization import draw_graph \n",
    "from openai import AsyncOpenAI \n",
    "from dotenv import load_dotenv  \n",
    "load_dotenv() \n",
    "from agents import (\n",
    "    Agent,\n",
    "    Runner, \n",
    "    set_tracing_disabled,OpenAIChatCompletionsModel,enable_verbose_stdout_logging\n",
    ")   \n",
    " \n",
    "API_KEY=os.getenv(\"GEMINI_API_KEY\")\n",
    "\n",
    "if  not API_KEY  :\n",
    "    raise ValueError(\"Please set EXAMPLE_BASE_URL, EXAMPLE_API_KEY, EXAMPLE_MODEL_NAME via env var or code.\")\n",
    "\n",
    " \n",
    "# logfire.configure(token=os.getenv('LOGFIR_TOKEN') ) \n",
    "# logfire.instrument_openai()\n",
    "# enable_verbose_stdout_logging()\n",
    "set_tracing_disabled(disabled=True)\n",
    "API_KEY=os.getenv(\"GEMINI_API_KEY\")\n",
    "\n",
    "if  not API_KEY  :\n",
    "    raise ValueError(\"Please set EXAMPLE_BASE_URL, EXAMPLE_API_KEY, EXAMPLE_MODEL_NAME via env var or code.\")\n",
    "\n",
    " \n",
    "client = AsyncOpenAI(base_url=\"https://generativelanguage.googleapis.com/v1beta/openai/\",api_key=API_KEY,)\n",
    "\n",
    "model = OpenAIChatCompletionsModel(model=\"gemini-2.0-flash\",openai_client=client)\n",
    "\n",
    "\n",
    "\n",
    "\n",
    "class CalendarEvent(BaseModel):\n",
    "    name: str\n",
    "    date: str\n",
    "    participants: list[str]\n",
    "\n",
    "@dataclass\n",
    "class CalendarClass:\n",
    "  story_theme:str\n",
    "\n",
    "def calendar_def(wrapper,agent):\n",
    "  return f\"\"\"Extract calendar events from text /n/n\n",
    "          {wrapper.context.story_theme}\n",
    "          \"\"\"\n",
    "  \n",
    "async def main(theme): \n",
    "  \n",
    "    ctx = CalendarClass(story_theme=theme)\n",
    "     \n",
    "    agent = Agent(\n",
    "    name=\"Calendar extractor\",\n",
    "    instructions=calendar_def,\n",
    "    model=model,\n",
    "    output_type=CalendarEvent,\n",
    ")\n",
    "    result = await Runner.run(agent, input=theme,context=ctx) \n",
    "    content= result.final_output\n",
    "    print(f\"llm resp:{content}\")\n",
    "    return\n",
    " \n",
    "\n",
    "\n",
    "\n",
    "\n",
    "if __name__ == \"__main__\":\n",
    "    \n",
    "    theme = \"we have an event whose name is Agenticai on 19 oct 2025 and particepatent billgates elon musk, and andrew , and sir zia khan\"\n",
    "\n",
    "    asyncio.run(main(theme))\n"
   ]
  },
  {
   "cell_type": "code",
   "execution_count": null,
   "id": "b623946d",
   "metadata": {},
   "outputs": [],
   "source": []
  }
 ],
 "metadata": {
  "kernelspec": {
   "display_name": "Python 3",
   "language": "python",
   "name": "python3"
  },
  "language_info": {
   "codemirror_mode": {
    "name": "ipython",
    "version": 3
   },
   "file_extension": ".py",
   "mimetype": "text/x-python",
   "name": "python",
   "nbconvert_exporter": "python",
   "pygments_lexer": "ipython3",
   "version": "3.13.3"
  }
 },
 "nbformat": 4,
 "nbformat_minor": 5
}
